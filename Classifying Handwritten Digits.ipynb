{
 "cells": [
  {
   "cell_type": "code",
   "execution_count": 1,
   "id": "8fc719a5",
   "metadata": {},
   "outputs": [],
   "source": [
    "#Importing Main Libraries\n",
    "import pandas as pd\n",
    "import numpy as np\n",
    "import matplotlib.pyplot as plt\n",
    "import matplotlib.image as mpimg\n",
    "import seaborn as sns\n",
    "\n",
    "import warnings\n",
    "warnings.filterwarnings(\"ignore\")"
   ]
  },
  {
   "cell_type": "code",
   "execution_count": 2,
   "id": "7755c988",
   "metadata": {},
   "outputs": [],
   "source": [
    "#Importing The Dataset Downloaded From Kaggle\n",
    "data_train = pd.read_csv(\"/home/kanax/Desktop/ML_Projects/train.csv\")\n",
    "data_test = pd.read_csv(\"/home/kanax/Desktop/ML_Projects/test.csv\")"
   ]
  },
  {
   "cell_type": "code",
   "execution_count": 3,
   "id": "f86a4689",
   "metadata": {},
   "outputs": [
    {
     "data": {
      "image/png": "[encoded data removed]",
      "text/plain": [
       "<Figure size 432x288 with 1 Axes>"
      ]
     },
     "metadata": {
      "needs_background": "light"
     },
     "output_type": "display_data"
    }
   ],
   "source": [
    "#Checking For Imbalance In The Training Set\n",
    "y_train = data_train[\"label\"]\n",
    "X_train = data_train.drop(labels = [\"label\"],axis = 1) \n",
    "\n",
    "sns.countplot(y_train,palette='coolwarm');"
   ]
  },
  {
   "cell_type": "code",
   "execution_count": 4,
   "id": "e1be8e7c",
   "metadata": {},
   "outputs": [
    {
     "data": {
      "text/plain": [
       "{False}"
      ]
     },
     "execution_count": 4,
     "metadata": {},
     "output_type": "execute_result"
    }
   ],
   "source": [
    "#Checking For Null-Values In The Training Set\n",
    "set(list(X_train.isnull().all()))"
   ]
  },
  {
   "cell_type": "code",
   "execution_count": 5,
   "id": "41e28e9d",
   "metadata": {},
   "outputs": [
    {
     "name": "stdout",
     "output_type": "stream",
     "text": [
      "The pixel values range from 0 to 255\n"
     ]
    }
   ],
   "source": [
    "#Normalizing Our Pixel Values\n",
    "print(\"The pixel values range from %d to %d\" %(min(X_train.iloc[0]), max(X_train.iloc[0])))"
   ]
  },
  {
   "cell_type": "code",
   "execution_count": 6,
   "id": "0e415dd9",
   "metadata": {},
   "outputs": [],
   "source": [
    "X_train = (X_train)/255.0"
   ]
  },
  {
   "cell_type": "code",
   "execution_count": 7,
   "id": "58630fcf",
   "metadata": {},
   "outputs": [
    {
     "data": {
      "image/png": "[encoded data removed]",
      "text/plain": [
       "<Figure size 432x288 with 1 Axes>"
      ]
     },
     "metadata": {
      "needs_background": "light"
     },
     "output_type": "display_data"
    }
   ],
   "source": [
    "#Reshaping Our Feature Vector To See The Images\n",
    "X_train = X_train.values.reshape(-1,28,28,1)\n",
    "g = plt.imshow(X_train[5][:,:,0],cmap='Greys')"
   ]
  },
  {
   "cell_type": "code",
   "execution_count": 8,
   "id": "d28d27a3",
   "metadata": {},
   "outputs": [],
   "source": [
    "#One Hot Encoding The Training Results\n",
    "from keras.utils.np_utils import to_categorical\n",
    "\n",
    "y_train = to_categorical(y_train, num_classes = 10)"
   ]
  },
  {
   "cell_type": "code",
   "execution_count": 9,
   "id": "110e6649",
   "metadata": {},
   "outputs": [],
   "source": [
    "#Splitting The Training Dataset To Obtain A Validation Split\n",
    "from sklearn.model_selection import train_test_split\n",
    "\n",
    "X_train, X_val, y_train, y_val = train_test_split(X_train, y_train, test_size = 0.1)"
   ]
  },
  {
   "cell_type": "code",
   "execution_count": 10,
   "id": "54b74634",
   "metadata": {},
   "outputs": [],
   "source": [
    "#Building A CNN Model\n",
    "from keras.models import Sequential\n",
    "from keras.layers import Dense, Dropout, Flatten, Conv2D, MaxPool2D\n",
    "\n",
    "model = Sequential()\n",
    "\n",
    "model.add(Conv2D(filters = 32, kernel_size = (5,5),padding = 'Same', activation ='relu', input_shape = (28,28,1)))\n",
    "model.add(Conv2D(filters = 32, kernel_size = (5,5),padding = 'Same', activation ='relu'))\n",
    "model.add(MaxPool2D(pool_size=(2,2)))\n",
    "model.add(Dropout(0.25))\n",
    "\n",
    "model.add(Conv2D(filters = 64, kernel_size = (3,3),padding = 'Same', activation ='relu'))\n",
    "model.add(Conv2D(filters = 64, kernel_size = (3,3),padding = 'Same', activation ='relu'))\n",
    "model.add(MaxPool2D(pool_size=(2,2), strides=(2,2)))\n",
    "model.add(Dropout(0.25))\n",
    "\n",
    "model.add(Flatten())\n",
    "model.add(Dense(256, activation = \"relu\"))\n",
    "model.add(Dropout(0.5))\n",
    "model.add(Dense(10, activation = \"softmax\"))"
   ]
  },
  {
   "cell_type": "code",
   "execution_count": 11,
   "id": "7f81e001",
   "metadata": {},
   "outputs": [],
   "source": [
    "#Defining An Optimizer\n",
    "from tensorflow.keras.optimizers import RMSprop\n",
    "\n",
    "optimizer = RMSprop(lr=0.001, rho=0.9, epsilon=1e-08, decay=0.0)"
   ]
  },
  {
   "cell_type": "code",
   "execution_count": 12,
   "id": "26d97331",
   "metadata": {},
   "outputs": [],
   "source": [
    "#Compiling The Model\n",
    "model.compile(optimizer = optimizer , loss = \"categorical_crossentropy\", metrics=[\"accuracy\"])"
   ]
  },
  {
   "cell_type": "code",
   "execution_count": 13,
   "id": "4942bae5",
   "metadata": {},
   "outputs": [],
   "source": [
    "#Defining A Learning Rate Annealer\n",
    "from keras.callbacks import ReduceLROnPlateau\n",
    "\n",
    "learning_rate_reduction = ReduceLROnPlateau(monitor='val_acc', patience=3, verbose=1, factor=0.5, min_lr=0.00001)"
   ]
  },
  {
   "cell_type": "code",
   "execution_count": 14,
   "id": "29b6bb70",
   "metadata": {},
   "outputs": [
    {
     "name": "stdout",
     "output_type": "stream",
     "text": [
      "Epoch 1/10\n",
      "440/440 - 89s - loss: 0.2381 - accuracy: 0.9241 - val_loss: 0.0573 - val_accuracy: 0.9800 - 89s/epoch - 202ms/step\n",
      "Epoch 2/10\n",
      "440/440 - 88s - loss: 0.0752 - accuracy: 0.9772 - val_loss: 0.0512 - val_accuracy: 0.9836 - 88s/epoch - 200ms/step\n",
      "Epoch 3/10\n",
      "440/440 - 99s - loss: 0.0538 - accuracy: 0.9834 - val_loss: 0.0385 - val_accuracy: 0.9876 - 99s/epoch - 224ms/step\n",
      "Epoch 4/10\n",
      "440/440 - 106s - loss: 0.0482 - accuracy: 0.9861 - val_loss: 0.0320 - val_accuracy: 0.9886 - 106s/epoch - 242ms/step\n",
      "Epoch 5/10\n",
      "440/440 - 93s - loss: 0.0398 - accuracy: 0.9888 - val_loss: 0.0471 - val_accuracy: 0.9864 - 93s/epoch - 211ms/step\n",
      "Epoch 6/10\n",
      "440/440 - 93s - loss: 0.0371 - accuracy: 0.9893 - val_loss: 0.0259 - val_accuracy: 0.9910 - 93s/epoch - 210ms/step\n",
      "Epoch 7/10\n",
      "440/440 - 93s - loss: 0.0336 - accuracy: 0.9903 - val_loss: 0.0648 - val_accuracy: 0.9852 - 93s/epoch - 212ms/step\n",
      "Epoch 8/10\n",
      "440/440 - 94s - loss: 0.0310 - accuracy: 0.9909 - val_loss: 0.0366 - val_accuracy: 0.9905 - 94s/epoch - 213ms/step\n",
      "Epoch 9/10\n",
      "440/440 - 97s - loss: 0.0295 - accuracy: 0.9910 - val_loss: 0.0357 - val_accuracy: 0.9919 - 97s/epoch - 221ms/step\n",
      "Epoch 10/10\n",
      "440/440 - 101s - loss: 0.0276 - accuracy: 0.9917 - val_loss: 0.0330 - val_accuracy: 0.9905 - 101s/epoch - 229ms/step\n"
     ]
    },
    {
     "data": {
      "text/plain": [
       "<keras.callbacks.History at 0x7fbd8c14ff70>"
      ]
     },
     "execution_count": 14,
     "metadata": {},
     "output_type": "execute_result"
    }
   ],
   "source": [
    "#Fitting The Model\n",
    "epochs, batch_size = 10, 86\n",
    "model.fit(X_train, y_train, batch_size = batch_size, epochs = epochs, validation_data = (X_val, y_val), verbose = 2)"
   ]
  },
  {
   "cell_type": "code",
   "execution_count": 15,
   "id": "7d3bd878",
   "metadata": {},
   "outputs": [
    {
     "name": "stdout",
     "output_type": "stream",
     "text": [
      "Running on local URL:  http://127.0.0.1:7861/\n",
      "\n",
      "To create a public link, set `share=True` in `launch()`.\n"
     ]
    },
    {
     "data": {
      "text/html": [
       "\n",
       "        <iframe\n",
       "            width=\"900\"\n",
       "            height=\"500\"\n",
       "            src=\"http://127.0.0.1:7861/\"\n",
       "            frameborder=\"0\"\n",
       "            allowfullscreen\n",
       "        ></iframe>\n",
       "        "
      ],
      "text/plain": [
       "<IPython.lib.display.IFrame at 0x7fbd0299f970>"
      ]
     },
     "metadata": {},
     "output_type": "display_data"
    },
    {
     "data": {
      "text/plain": [
       "(<fastapi.applications.FastAPI at 0x7fbd03702160>,\n",
       " 'http://127.0.0.1:7861/',\n",
       " None)"
      ]
     },
     "execution_count": 15,
     "metadata": {},
     "output_type": "execute_result"
    }
   ],
   "source": [
    "#Deploying Gradio Applet\n",
    "import gradio as gr\n",
    "labels = [str(i) for i in range(0,10)]\n",
    "def predict_shape(img):\n",
    "    img = img/255.0\n",
    "    preds = model.predict(img.reshape(-1, 28, 28, 1))[0]\n",
    "    return {label: float(pred) for label, pred in zip(labels, preds)}\n",
    "\n",
    "\n",
    "output = gr.outputs.Label(num_top_classes=2)\n",
    "input = gr.inputs.Image(image_mode='L', \n",
    "                        source='canvas', \n",
    "                        shape=(28, 28), \n",
    "                        invert_colors=True, \n",
    "                        tool= 'select')\n",
    "\n",
    "title=\"Digit prediction app\"\n",
    "description=\"A Convolution Neural Network model trained on MNST dataset.\" \\\n",
    "\n",
    "gr.Interface(fn = predict_shape,\n",
    "             inputs = input, \n",
    "             outputs = output, \n",
    "             live = True, \n",
    "             title=title,\n",
    "             description = description,\n",
    "             capture_session=True).launch()"
   ]
  },
  {
   "cell_type": "code",
   "execution_count": null,
   "id": "148ca236",
   "metadata": {},
   "outputs": [],
   "source": []
  }
 ],
 "metadata": {
  "kernelspec": {
   "display_name": "Python 3",
   "language": "python",
   "name": "python3"
  },
  "language_info": {
   "codemirror_mode": {
    "name": "ipython",
    "version": 3
   },
   "file_extension": ".py",
   "mimetype": "text/x-python",
   "name": "python",
   "nbconvert_exporter": "python",
   "pygments_lexer": "ipython3",
   "version": "3.8.8"
  }
 },
 "nbformat": 4,
 "nbformat_minor": 5
}
